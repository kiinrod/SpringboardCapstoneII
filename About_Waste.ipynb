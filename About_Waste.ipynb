{
 "cells": [
  {
   "cell_type": "code",
   "execution_count": null,
   "id": "f64ff179",
   "metadata": {},
   "outputs": [],
   "source": [
    "import pandas as pd\n",
    "import numpy as np\n",
    "import seaborn as sb\n",
    "import matplotlib.pyplot as plt"
   ]
  },
  {
   "cell_type": "code",
   "execution_count": null,
   "id": "31c195b0",
   "metadata": {},
   "outputs": [],
   "source": [
    "relative_data_location = \"../Data/waste_data.xlsx\""
   ]
  },
  {
   "cell_type": "code",
   "execution_count": null,
   "id": "f4b72e69",
   "metadata": {},
   "outputs": [],
   "source": [
    "absolute_data_location = \"/Users/andreavr/dev/springboard/CapstoneII/Data/waste_data.xlsx\"\n"
   ]
  },
  {
   "cell_type": "code",
   "execution_count": null,
   "id": "23474a2e",
   "metadata": {},
   "outputs": [],
   "source": [
    "data = pd.read_excel(relative_data_location, sheet_name='CNHW_National_Totals_by_NAICS')"
   ]
  },
  {
   "cell_type": "code",
   "execution_count": null,
   "id": "bf068c58",
   "metadata": {},
   "outputs": [],
   "source": [
    "data"
   ]
  },
  {
   "cell_type": "code",
   "execution_count": null,
   "id": "46403fe8",
   "metadata": {},
   "outputs": [],
   "source": []
  }
 ],
 "metadata": {
  "kernelspec": {
   "display_name": "Python 3",
   "language": "python",
   "name": "python3"
  },
  "language_info": {
   "codemirror_mode": {
    "name": "ipython",
    "version": 3
   },
   "file_extension": ".py",
   "mimetype": "text/x-python",
   "name": "python",
   "nbconvert_exporter": "python",
   "pygments_lexer": "ipython3",
   "version": "3.8.8"
  }
 },
 "nbformat": 4,
 "nbformat_minor": 5
}
